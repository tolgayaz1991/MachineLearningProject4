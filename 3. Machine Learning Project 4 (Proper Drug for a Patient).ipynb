{
 "cells": [
  {
   "cell_type": "markdown",
   "id": "dd4bd432",
   "metadata": {},
   "source": [
    "---"
   ]
  },
  {
   "cell_type": "markdown",
   "id": "c6d1b7b0",
   "metadata": {},
   "source": [
    "# 3. Machine Learning with Python 4 (Project 4, Decision Tree)\n",
    "\n",
    "# Goal: \n",
    "\n",
    "## Finding the Proper Drug for a New Patient via Decision Tree Algorithm\n",
    "\n",
    "# _00. Import Main Libraries_\n",
    "\n",
    "# _01. Load the Data and Explore the Basics of It_\n",
    "\n",
    "# _02. Preprocessing_\n",
    "\n",
    "# _03. Train-Test Split_\n",
    "\n",
    "# _04. Decision Tree Usage_\n",
    "\n",
    "# _05. Evaluation of the Model_"
   ]
  },
  {
   "cell_type": "markdown",
   "id": "eb6f483e",
   "metadata": {},
   "source": [
    "---\n",
    "---\n",
    "---"
   ]
  },
  {
   "cell_type": "markdown",
   "id": "8cd5d8a0",
   "metadata": {},
   "source": [
    "# _00. Import Main Libraries_"
   ]
  },
  {
   "cell_type": "code",
   "execution_count": 1,
   "id": "e6432c18",
   "metadata": {},
   "outputs": [],
   "source": [
    "import numpy as np\n",
    "import pandas as pd\n",
    "\n",
    "from sklearn.tree import DecisionTreeClassifier\n",
    "\n",
    "import matplotlib.pyplot as plt"
   ]
  },
  {
   "cell_type": "markdown",
   "id": "d168669c",
   "metadata": {},
   "source": [
    "# _01. Load the Data and Explore the Basics of It_"
   ]
  },
  {
   "cell_type": "code",
   "execution_count": 2,
   "id": "9d867e15",
   "metadata": {},
   "outputs": [
    {
     "data": {
      "text/html": [
       "<div>\n",
       "<style scoped>\n",
       "    .dataframe tbody tr th:only-of-type {\n",
       "        vertical-align: middle;\n",
       "    }\n",
       "\n",
       "    .dataframe tbody tr th {\n",
       "        vertical-align: top;\n",
       "    }\n",
       "\n",
       "    .dataframe thead th {\n",
       "        text-align: right;\n",
       "    }\n",
       "</style>\n",
       "<table border=\"1\" class=\"dataframe\">\n",
       "  <thead>\n",
       "    <tr style=\"text-align: right;\">\n",
       "      <th></th>\n",
       "      <th>Age</th>\n",
       "      <th>Gender</th>\n",
       "      <th>BP</th>\n",
       "      <th>Cholesterol</th>\n",
       "      <th>Na_to_K</th>\n",
       "      <th>Drug</th>\n",
       "    </tr>\n",
       "  </thead>\n",
       "  <tbody>\n",
       "    <tr>\n",
       "      <th>0</th>\n",
       "      <td>23</td>\n",
       "      <td>F</td>\n",
       "      <td>HIGH</td>\n",
       "      <td>HIGH</td>\n",
       "      <td>25.355</td>\n",
       "      <td>drugY</td>\n",
       "    </tr>\n",
       "    <tr>\n",
       "      <th>1</th>\n",
       "      <td>47</td>\n",
       "      <td>M</td>\n",
       "      <td>LOW</td>\n",
       "      <td>HIGH</td>\n",
       "      <td>13.093</td>\n",
       "      <td>drugC</td>\n",
       "    </tr>\n",
       "    <tr>\n",
       "      <th>2</th>\n",
       "      <td>47</td>\n",
       "      <td>M</td>\n",
       "      <td>LOW</td>\n",
       "      <td>HIGH</td>\n",
       "      <td>10.114</td>\n",
       "      <td>drugC</td>\n",
       "    </tr>\n",
       "    <tr>\n",
       "      <th>3</th>\n",
       "      <td>28</td>\n",
       "      <td>F</td>\n",
       "      <td>NORMAL</td>\n",
       "      <td>HIGH</td>\n",
       "      <td>7.798</td>\n",
       "      <td>drugX</td>\n",
       "    </tr>\n",
       "    <tr>\n",
       "      <th>4</th>\n",
       "      <td>61</td>\n",
       "      <td>F</td>\n",
       "      <td>LOW</td>\n",
       "      <td>HIGH</td>\n",
       "      <td>18.043</td>\n",
       "      <td>drugY</td>\n",
       "    </tr>\n",
       "  </tbody>\n",
       "</table>\n",
       "</div>"
      ],
      "text/plain": [
       "   Age Gender      BP Cholesterol  Na_to_K   Drug\n",
       "0   23      F    HIGH        HIGH   25.355  drugY\n",
       "1   47      M     LOW        HIGH   13.093  drugC\n",
       "2   47      M     LOW        HIGH   10.114  drugC\n",
       "3   28      F  NORMAL        HIGH    7.798  drugX\n",
       "4   61      F     LOW        HIGH   18.043  drugY"
      ]
     },
     "execution_count": 2,
     "metadata": {},
     "output_type": "execute_result"
    }
   ],
   "source": [
    "df = pd.read_csv(\"drug200.csv\")\n",
    "\n",
    "df.head()"
   ]
  },
  {
   "cell_type": "code",
   "execution_count": 3,
   "id": "5145cd98",
   "metadata": {},
   "outputs": [
    {
     "data": {
      "text/plain": [
       "(200, 6)"
      ]
     },
     "execution_count": 3,
     "metadata": {},
     "output_type": "execute_result"
    }
   ],
   "source": [
    "df.shape"
   ]
  },
  {
   "cell_type": "code",
   "execution_count": 4,
   "id": "f8a8da0b",
   "metadata": {},
   "outputs": [
    {
     "name": "stdout",
     "output_type": "stream",
     "text": [
      "<class 'pandas.core.frame.DataFrame'>\n",
      "RangeIndex: 200 entries, 0 to 199\n",
      "Data columns (total 6 columns):\n",
      " #   Column       Non-Null Count  Dtype  \n",
      "---  ------       --------------  -----  \n",
      " 0   Age          200 non-null    int64  \n",
      " 1   Gender       200 non-null    object \n",
      " 2   BP           200 non-null    object \n",
      " 3   Cholesterol  200 non-null    object \n",
      " 4   Na_to_K      200 non-null    float64\n",
      " 5   Drug         200 non-null    object \n",
      "dtypes: float64(1), int64(1), object(4)\n",
      "memory usage: 9.5+ KB\n"
     ]
    }
   ],
   "source": [
    "df.info()"
   ]
  },
  {
   "cell_type": "code",
   "execution_count": 5,
   "id": "f31d8385",
   "metadata": {},
   "outputs": [
    {
     "data": {
      "text/plain": [
       "Drug \n",
       "drugY    91\n",
       "drugX    54\n",
       "drugA    23\n",
       "drugB    16\n",
       "drugC    16\n",
       "dtype: int64"
      ]
     },
     "execution_count": 5,
     "metadata": {},
     "output_type": "execute_result"
    }
   ],
   "source": [
    "df[[\"Drug\"]].value_counts()"
   ]
  },
  {
   "cell_type": "markdown",
   "id": "64b71a64",
   "metadata": {},
   "source": [
    "# _02. Preprocessing_"
   ]
  },
  {
   "cell_type": "code",
   "execution_count": 6,
   "id": "4d030be9",
   "metadata": {},
   "outputs": [],
   "source": [
    "# get the predictors\n",
    "\n",
    "X = df.drop('Drug',axis=1)\n",
    "\n",
    "X\n",
    "\n",
    "X_num = df.drop('Drug',axis=1)\n",
    "\n",
    "y = df[[\"Drug\"]]"
   ]
  },
  {
   "cell_type": "code",
   "execution_count": 7,
   "id": "256e8bd6",
   "metadata": {},
   "outputs": [
    {
     "data": {
      "text/html": [
       "<div>\n",
       "<style scoped>\n",
       "    .dataframe tbody tr th:only-of-type {\n",
       "        vertical-align: middle;\n",
       "    }\n",
       "\n",
       "    .dataframe tbody tr th {\n",
       "        vertical-align: top;\n",
       "    }\n",
       "\n",
       "    .dataframe thead th {\n",
       "        text-align: right;\n",
       "    }\n",
       "</style>\n",
       "<table border=\"1\" class=\"dataframe\">\n",
       "  <thead>\n",
       "    <tr style=\"text-align: right;\">\n",
       "      <th></th>\n",
       "      <th>Age</th>\n",
       "      <th>Gender</th>\n",
       "      <th>BP</th>\n",
       "      <th>Cholesterol</th>\n",
       "      <th>Na_to_K</th>\n",
       "    </tr>\n",
       "  </thead>\n",
       "  <tbody>\n",
       "    <tr>\n",
       "      <th>0</th>\n",
       "      <td>23</td>\n",
       "      <td>0</td>\n",
       "      <td>0</td>\n",
       "      <td>0</td>\n",
       "      <td>25.355</td>\n",
       "    </tr>\n",
       "    <tr>\n",
       "      <th>1</th>\n",
       "      <td>47</td>\n",
       "      <td>1</td>\n",
       "      <td>1</td>\n",
       "      <td>0</td>\n",
       "      <td>13.093</td>\n",
       "    </tr>\n",
       "    <tr>\n",
       "      <th>2</th>\n",
       "      <td>47</td>\n",
       "      <td>1</td>\n",
       "      <td>1</td>\n",
       "      <td>0</td>\n",
       "      <td>10.114</td>\n",
       "    </tr>\n",
       "    <tr>\n",
       "      <th>3</th>\n",
       "      <td>28</td>\n",
       "      <td>0</td>\n",
       "      <td>2</td>\n",
       "      <td>0</td>\n",
       "      <td>7.798</td>\n",
       "    </tr>\n",
       "    <tr>\n",
       "      <th>4</th>\n",
       "      <td>61</td>\n",
       "      <td>0</td>\n",
       "      <td>1</td>\n",
       "      <td>0</td>\n",
       "      <td>18.043</td>\n",
       "    </tr>\n",
       "    <tr>\n",
       "      <th>...</th>\n",
       "      <td>...</td>\n",
       "      <td>...</td>\n",
       "      <td>...</td>\n",
       "      <td>...</td>\n",
       "      <td>...</td>\n",
       "    </tr>\n",
       "    <tr>\n",
       "      <th>195</th>\n",
       "      <td>56</td>\n",
       "      <td>0</td>\n",
       "      <td>1</td>\n",
       "      <td>0</td>\n",
       "      <td>11.567</td>\n",
       "    </tr>\n",
       "    <tr>\n",
       "      <th>196</th>\n",
       "      <td>16</td>\n",
       "      <td>1</td>\n",
       "      <td>1</td>\n",
       "      <td>0</td>\n",
       "      <td>12.006</td>\n",
       "    </tr>\n",
       "    <tr>\n",
       "      <th>197</th>\n",
       "      <td>52</td>\n",
       "      <td>1</td>\n",
       "      <td>2</td>\n",
       "      <td>0</td>\n",
       "      <td>9.894</td>\n",
       "    </tr>\n",
       "    <tr>\n",
       "      <th>198</th>\n",
       "      <td>23</td>\n",
       "      <td>1</td>\n",
       "      <td>2</td>\n",
       "      <td>1</td>\n",
       "      <td>14.020</td>\n",
       "    </tr>\n",
       "    <tr>\n",
       "      <th>199</th>\n",
       "      <td>40</td>\n",
       "      <td>0</td>\n",
       "      <td>1</td>\n",
       "      <td>1</td>\n",
       "      <td>11.349</td>\n",
       "    </tr>\n",
       "  </tbody>\n",
       "</table>\n",
       "<p>200 rows × 5 columns</p>\n",
       "</div>"
      ],
      "text/plain": [
       "     Age  Gender  BP  Cholesterol  Na_to_K\n",
       "0     23       0   0            0   25.355\n",
       "1     47       1   1            0   13.093\n",
       "2     47       1   1            0   10.114\n",
       "3     28       0   2            0    7.798\n",
       "4     61       0   1            0   18.043\n",
       "..   ...     ...  ..          ...      ...\n",
       "195   56       0   1            0   11.567\n",
       "196   16       1   1            0   12.006\n",
       "197   52       1   2            0    9.894\n",
       "198   23       1   2            1   14.020\n",
       "199   40       0   1            1   11.349\n",
       "\n",
       "[200 rows x 5 columns]"
      ]
     },
     "execution_count": 7,
     "metadata": {},
     "output_type": "execute_result"
    }
   ],
   "source": [
    "# get indicator vars for categorical features\n",
    "\n",
    "from sklearn import preprocessing\n",
    "\n",
    "iv_gender = preprocessing.LabelEncoder()\n",
    "iv_gender.fit(['F','M'])\n",
    "X_num.Gender = iv_gender.transform(X.Gender) \n",
    "\n",
    "\n",
    "iv_BP = preprocessing.LabelEncoder()\n",
    "iv_BP.fit([ 'LOW', 'NORMAL', 'HIGH'])\n",
    "X_num.BP = iv_BP.transform(X.BP)\n",
    "\n",
    "\n",
    "iv_Chol = preprocessing.LabelEncoder()\n",
    "iv_Chol.fit([ 'NORMAL', 'HIGH'])\n",
    "X_num.Cholesterol = iv_Chol.transform(X.Cholesterol) \n",
    "\n",
    "X_num"
   ]
  },
  {
   "cell_type": "code",
   "execution_count": 8,
   "id": "ad2eb310",
   "metadata": {},
   "outputs": [],
   "source": [
    "# to get categorical values back from dummies, inverse transform is used \n",
    "\n",
    "# iv_gender.inverse_transform(X_num.Gender)\n",
    "\n",
    "# iv_BP.inverse_transform(X_num.BP)\n",
    "\n",
    "# iv_Chol.inverse_transform(X_num.Cholesterol)"
   ]
  },
  {
   "cell_type": "markdown",
   "id": "c19643bd",
   "metadata": {},
   "source": [
    "# _03. Train-Test Split_"
   ]
  },
  {
   "cell_type": "code",
   "execution_count": 9,
   "id": "a32a81b8",
   "metadata": {},
   "outputs": [],
   "source": [
    "from sklearn.model_selection import train_test_split\n",
    "\n",
    "X_train, X_test, y_train, y_test = train_test_split(X_num, y, test_size=0.3, random_state=1)"
   ]
  },
  {
   "cell_type": "code",
   "execution_count": 10,
   "id": "c12c0ae6",
   "metadata": {},
   "outputs": [
    {
     "name": "stdout",
     "output_type": "stream",
     "text": [
      "X_train, X_test, y_train, y_test shapes:  (140, 5)   (60, 5)   (140, 1)   (60, 1)\n"
     ]
    }
   ],
   "source": [
    "print(\"X_train, X_test, y_train, y_test shapes: \", X_train.shape,\" \", X_test.shape, \" \", y_train.shape, \" \", y_test.shape)"
   ]
  },
  {
   "cell_type": "markdown",
   "id": "18cc9ae4",
   "metadata": {},
   "source": [
    "# _04. Decision Tree Usage_"
   ]
  },
  {
   "cell_type": "code",
   "execution_count": 11,
   "id": "a3e3290a",
   "metadata": {},
   "outputs": [
    {
     "data": {
      "text/plain": [
       "DecisionTreeClassifier(criterion='entropy', max_depth=4)"
      ]
     },
     "execution_count": 11,
     "metadata": {},
     "output_type": "execute_result"
    }
   ],
   "source": [
    "# instance of decision tree\n",
    "\n",
    "drugTree = DecisionTreeClassifier(criterion=\"entropy\", max_depth = 4)\n",
    "\n",
    "drugTree"
   ]
  },
  {
   "cell_type": "code",
   "execution_count": 12,
   "id": "7cbb3f6e",
   "metadata": {},
   "outputs": [
    {
     "data": {
      "text/plain": [
       "DecisionTreeClassifier(criterion='entropy', max_depth=4)"
      ]
     },
     "execution_count": 12,
     "metadata": {},
     "output_type": "execute_result"
    }
   ],
   "source": [
    "# fit the tree with train data\n",
    "\n",
    "drugTree.fit(X_train,y_train)"
   ]
  },
  {
   "cell_type": "code",
   "execution_count": 13,
   "id": "9ab9f80e",
   "metadata": {},
   "outputs": [
    {
     "data": {
      "text/html": [
       "<div>\n",
       "<style scoped>\n",
       "    .dataframe tbody tr th:only-of-type {\n",
       "        vertical-align: middle;\n",
       "    }\n",
       "\n",
       "    .dataframe tbody tr th {\n",
       "        vertical-align: top;\n",
       "    }\n",
       "\n",
       "    .dataframe thead th {\n",
       "        text-align: right;\n",
       "    }\n",
       "</style>\n",
       "<table border=\"1\" class=\"dataframe\">\n",
       "  <thead>\n",
       "    <tr style=\"text-align: right;\">\n",
       "      <th></th>\n",
       "      <th>Age</th>\n",
       "      <th>Gender</th>\n",
       "      <th>BP</th>\n",
       "      <th>Cholestrol</th>\n",
       "      <th>Na_to_K</th>\n",
       "    </tr>\n",
       "  </thead>\n",
       "  <tbody>\n",
       "    <tr>\n",
       "      <th>0</th>\n",
       "      <td>23</td>\n",
       "      <td>1</td>\n",
       "      <td>0</td>\n",
       "      <td>0</td>\n",
       "      <td>25.355</td>\n",
       "    </tr>\n",
       "  </tbody>\n",
       "</table>\n",
       "</div>"
      ],
      "text/plain": [
       "   Age  Gender  BP  Cholestrol  Na_to_K\n",
       "0   23       1   0           0   25.355"
      ]
     },
     "execution_count": 13,
     "metadata": {},
     "output_type": "execute_result"
    }
   ],
   "source": [
    "# predict one external data\n",
    "\n",
    "externalData = {\"Age\":[23], \"Gender\": [\"M\"], \"BP\": [\"HIGH\"], \"Cholestrol\": [\"HIGH\"], \"Na_to_K\":[25.355]}\n",
    "\n",
    "extDatDf = pd.DataFrame(externalData)\n",
    "\n",
    "extDatDf.Gender = iv_gender.transform(extDatDf.Gender) \n",
    "\n",
    "extDatDf.BP = iv_BP.transform(extDatDf.BP) \n",
    "\n",
    "extDatDf.Cholestrol = iv_Chol.transform(extDatDf.Cholestrol) \n",
    "\n",
    "extDatDf"
   ]
  },
  {
   "cell_type": "code",
   "execution_count": 14,
   "id": "1384bb74",
   "metadata": {},
   "outputs": [
    {
     "data": {
      "text/plain": [
       "array(['drugY'], dtype=object)"
      ]
     },
     "execution_count": 14,
     "metadata": {},
     "output_type": "execute_result"
    }
   ],
   "source": [
    "pred0 = drugTree.predict(extDatDf)\n",
    "     \n",
    "pred0"
   ]
  },
  {
   "cell_type": "code",
   "execution_count": 15,
   "id": "a135e9a5",
   "metadata": {},
   "outputs": [
    {
     "data": {
      "text/html": [
       "<div>\n",
       "<style scoped>\n",
       "    .dataframe tbody tr th:only-of-type {\n",
       "        vertical-align: middle;\n",
       "    }\n",
       "\n",
       "    .dataframe tbody tr th {\n",
       "        vertical-align: top;\n",
       "    }\n",
       "\n",
       "    .dataframe thead th {\n",
       "        text-align: right;\n",
       "    }\n",
       "</style>\n",
       "<table border=\"1\" class=\"dataframe\">\n",
       "  <thead>\n",
       "    <tr style=\"text-align: right;\">\n",
       "      <th></th>\n",
       "      <th>PredictedDrugs</th>\n",
       "    </tr>\n",
       "  </thead>\n",
       "  <tbody>\n",
       "    <tr>\n",
       "      <th>58</th>\n",
       "      <td>drugX</td>\n",
       "    </tr>\n",
       "    <tr>\n",
       "      <th>40</th>\n",
       "      <td>drugY</td>\n",
       "    </tr>\n",
       "    <tr>\n",
       "      <th>34</th>\n",
       "      <td>drugX</td>\n",
       "    </tr>\n",
       "    <tr>\n",
       "      <th>102</th>\n",
       "      <td>drugC</td>\n",
       "    </tr>\n",
       "    <tr>\n",
       "      <th>184</th>\n",
       "      <td>drugY</td>\n",
       "    </tr>\n",
       "  </tbody>\n",
       "</table>\n",
       "</div>"
      ],
      "text/plain": [
       "    PredictedDrugs\n",
       "58           drugX\n",
       "40           drugY\n",
       "34           drugX\n",
       "102          drugC\n",
       "184          drugY"
      ]
     },
     "execution_count": 15,
     "metadata": {},
     "output_type": "execute_result"
    }
   ],
   "source": [
    "# predict the test data\n",
    "\n",
    "predTree = drugTree.predict(X_test)\n",
    "\n",
    "predTree = pd.DataFrame(predTree, columns = [\"PredictedDrugs\"])\n",
    "\n",
    "# set the index as y_test index\n",
    "\n",
    "predTree = predTree.set_index(y_test.index)\n",
    "\n",
    "predTree.head()"
   ]
  },
  {
   "cell_type": "code",
   "execution_count": 22,
   "id": "e62f4d59",
   "metadata": {},
   "outputs": [
    {
     "data": {
      "text/html": [
       "<div>\n",
       "<style scoped>\n",
       "    .dataframe tbody tr th:only-of-type {\n",
       "        vertical-align: middle;\n",
       "    }\n",
       "\n",
       "    .dataframe tbody tr th {\n",
       "        vertical-align: top;\n",
       "    }\n",
       "\n",
       "    .dataframe thead th {\n",
       "        text-align: right;\n",
       "    }\n",
       "</style>\n",
       "<table border=\"1\" class=\"dataframe\">\n",
       "  <thead>\n",
       "    <tr style=\"text-align: right;\">\n",
       "      <th></th>\n",
       "      <th>Drug</th>\n",
       "      <th>PredictedDrugs</th>\n",
       "    </tr>\n",
       "  </thead>\n",
       "  <tbody>\n",
       "    <tr>\n",
       "      <th>58</th>\n",
       "      <td>drugX</td>\n",
       "      <td>drugX</td>\n",
       "    </tr>\n",
       "    <tr>\n",
       "      <th>40</th>\n",
       "      <td>drugY</td>\n",
       "      <td>drugY</td>\n",
       "    </tr>\n",
       "    <tr>\n",
       "      <th>34</th>\n",
       "      <td>drugX</td>\n",
       "      <td>drugX</td>\n",
       "    </tr>\n",
       "    <tr>\n",
       "      <th>102</th>\n",
       "      <td>drugC</td>\n",
       "      <td>drugC</td>\n",
       "    </tr>\n",
       "    <tr>\n",
       "      <th>184</th>\n",
       "      <td>drugY</td>\n",
       "      <td>drugY</td>\n",
       "    </tr>\n",
       "  </tbody>\n",
       "</table>\n",
       "</div>"
      ],
      "text/plain": [
       "      Drug PredictedDrugs\n",
       "58   drugX          drugX\n",
       "40   drugY          drugY\n",
       "34   drugX          drugX\n",
       "102  drugC          drugC\n",
       "184  drugY          drugY"
      ]
     },
     "execution_count": 22,
     "metadata": {},
     "output_type": "execute_result"
    }
   ],
   "source": [
    "yResult = y_test.copy(deep = True)\n",
    "\n",
    "yResult.loc[:,\"PredictedDrugs\"]= predTree.PredictedDrugs\n",
    "\n",
    "yResult.head()"
   ]
  },
  {
   "cell_type": "markdown",
   "id": "aaffdfd4",
   "metadata": {},
   "source": [
    "# _05. Evaluation of the Model_"
   ]
  },
  {
   "cell_type": "code",
   "execution_count": 17,
   "id": "7ad73186",
   "metadata": {},
   "outputs": [
    {
     "name": "stdout",
     "output_type": "stream",
     "text": [
      "DrugTrees's Accuracy:  0.9666666666666667\n"
     ]
    }
   ],
   "source": [
    "from sklearn import metrics\n",
    "\n",
    "print(\"DrugTrees's Accuracy: \", metrics.accuracy_score(y_test.Drug, predTree))"
   ]
  },
  {
   "cell_type": "code",
   "execution_count": 20,
   "id": "9c3b5e58",
   "metadata": {
    "scrolled": true
   },
   "outputs": [
    {
     "data": {
      "text/plain": [
       "True     58\n",
       "False     2\n",
       "dtype: int64"
      ]
     },
     "execution_count": 20,
     "metadata": {},
     "output_type": "execute_result"
    }
   ],
   "source": [
    "(y_test.Drug == predTree.PredictedDrugs).value_counts()"
   ]
  },
  {
   "cell_type": "code",
   "execution_count": null,
   "id": "83393ff8",
   "metadata": {},
   "outputs": [],
   "source": []
  }
 ],
 "metadata": {
  "kernelspec": {
   "display_name": "Python 3",
   "language": "python",
   "name": "python3"
  },
  "language_info": {
   "codemirror_mode": {
    "name": "ipython",
    "version": 3
   },
   "file_extension": ".py",
   "mimetype": "text/x-python",
   "name": "python",
   "nbconvert_exporter": "python",
   "pygments_lexer": "ipython3",
   "version": "3.8.8"
  }
 },
 "nbformat": 4,
 "nbformat_minor": 5
}
